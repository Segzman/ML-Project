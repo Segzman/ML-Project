{
 "cells": [
  {
   "cell_type": "code",
   "execution_count": 213,
   "metadata": {},
   "outputs": [
    {
     "name": "stdout",
     "output_type": "stream",
     "text": [
      "done :)\n"
     ]
    }
   ],
   "source": [
    "import numpy as np \n",
    "import pandas as pd \n",
    "import seaborn as sns\n",
    "import matplotlib.pyplot as plt\n",
    "import os\n",
    "import sklearn\n",
    "import warnings\n",
    "warnings.filterwarnings('ignore')\n",
    "print(\"done :)\")"
   ]
  },
  {
   "cell_type": "code",
   "execution_count": 214,
   "metadata": {},
   "outputs": [
    {
     "data": {
      "text/html": "<div>\n<style scoped>\n    .dataframe tbody tr th:only-of-type {\n        vertical-align: middle;\n    }\n\n    .dataframe tbody tr th {\n        vertical-align: top;\n    }\n\n    .dataframe thead th {\n        text-align: right;\n    }\n</style>\n<table border=\"1\" class=\"dataframe\">\n  <thead>\n    <tr style=\"text-align: right;\">\n      <th></th>\n      <th>Make</th>\n      <th>Model</th>\n      <th>Year</th>\n      <th>Engine Fuel Type</th>\n      <th>Engine HP</th>\n      <th>Engine Cylinders</th>\n      <th>Transmission Type</th>\n      <th>Driven_Wheels</th>\n      <th>Number of Doors</th>\n      <th>Market Category</th>\n      <th>Vehicle Size</th>\n      <th>Vehicle Style</th>\n      <th>highway MPG</th>\n      <th>city mpg</th>\n      <th>Popularity</th>\n      <th>MSRP</th>\n    </tr>\n  </thead>\n  <tbody>\n    <tr>\n      <th>0</th>\n      <td>BMW</td>\n      <td>1 Series M</td>\n      <td>2011</td>\n      <td>premium unleaded (required)</td>\n      <td>335.0</td>\n      <td>6.0</td>\n      <td>MANUAL</td>\n      <td>rear wheel drive</td>\n      <td>2.0</td>\n      <td>Factory Tuner,Luxury,High-Performance</td>\n      <td>Compact</td>\n      <td>Coupe</td>\n      <td>26</td>\n      <td>19</td>\n      <td>3916</td>\n      <td>46135</td>\n    </tr>\n    <tr>\n      <th>1</th>\n      <td>BMW</td>\n      <td>1 Series</td>\n      <td>2011</td>\n      <td>premium unleaded (required)</td>\n      <td>300.0</td>\n      <td>6.0</td>\n      <td>MANUAL</td>\n      <td>rear wheel drive</td>\n      <td>2.0</td>\n      <td>Luxury,Performance</td>\n      <td>Compact</td>\n      <td>Convertible</td>\n      <td>28</td>\n      <td>19</td>\n      <td>3916</td>\n      <td>40650</td>\n    </tr>\n    <tr>\n      <th>2</th>\n      <td>BMW</td>\n      <td>1 Series</td>\n      <td>2011</td>\n      <td>premium unleaded (required)</td>\n      <td>300.0</td>\n      <td>6.0</td>\n      <td>MANUAL</td>\n      <td>rear wheel drive</td>\n      <td>2.0</td>\n      <td>Luxury,High-Performance</td>\n      <td>Compact</td>\n      <td>Coupe</td>\n      <td>28</td>\n      <td>20</td>\n      <td>3916</td>\n      <td>36350</td>\n    </tr>\n    <tr>\n      <th>3</th>\n      <td>BMW</td>\n      <td>1 Series</td>\n      <td>2011</td>\n      <td>premium unleaded (required)</td>\n      <td>230.0</td>\n      <td>6.0</td>\n      <td>MANUAL</td>\n      <td>rear wheel drive</td>\n      <td>2.0</td>\n      <td>Luxury,Performance</td>\n      <td>Compact</td>\n      <td>Coupe</td>\n      <td>28</td>\n      <td>18</td>\n      <td>3916</td>\n      <td>29450</td>\n    </tr>\n    <tr>\n      <th>4</th>\n      <td>BMW</td>\n      <td>1 Series</td>\n      <td>2011</td>\n      <td>premium unleaded (required)</td>\n      <td>230.0</td>\n      <td>6.0</td>\n      <td>MANUAL</td>\n      <td>rear wheel drive</td>\n      <td>2.0</td>\n      <td>Luxury</td>\n      <td>Compact</td>\n      <td>Convertible</td>\n      <td>28</td>\n      <td>18</td>\n      <td>3916</td>\n      <td>34500</td>\n    </tr>\n    <tr>\n      <th>...</th>\n      <td>...</td>\n      <td>...</td>\n      <td>...</td>\n      <td>...</td>\n      <td>...</td>\n      <td>...</td>\n      <td>...</td>\n      <td>...</td>\n      <td>...</td>\n      <td>...</td>\n      <td>...</td>\n      <td>...</td>\n      <td>...</td>\n      <td>...</td>\n      <td>...</td>\n      <td>...</td>\n    </tr>\n    <tr>\n      <th>11909</th>\n      <td>Acura</td>\n      <td>ZDX</td>\n      <td>2012</td>\n      <td>premium unleaded (required)</td>\n      <td>300.0</td>\n      <td>6.0</td>\n      <td>AUTOMATIC</td>\n      <td>all wheel drive</td>\n      <td>4.0</td>\n      <td>Crossover,Hatchback,Luxury</td>\n      <td>Midsize</td>\n      <td>4dr Hatchback</td>\n      <td>23</td>\n      <td>16</td>\n      <td>204</td>\n      <td>46120</td>\n    </tr>\n    <tr>\n      <th>11910</th>\n      <td>Acura</td>\n      <td>ZDX</td>\n      <td>2012</td>\n      <td>premium unleaded (required)</td>\n      <td>300.0</td>\n      <td>6.0</td>\n      <td>AUTOMATIC</td>\n      <td>all wheel drive</td>\n      <td>4.0</td>\n      <td>Crossover,Hatchback,Luxury</td>\n      <td>Midsize</td>\n      <td>4dr Hatchback</td>\n      <td>23</td>\n      <td>16</td>\n      <td>204</td>\n      <td>56670</td>\n    </tr>\n    <tr>\n      <th>11911</th>\n      <td>Acura</td>\n      <td>ZDX</td>\n      <td>2012</td>\n      <td>premium unleaded (required)</td>\n      <td>300.0</td>\n      <td>6.0</td>\n      <td>AUTOMATIC</td>\n      <td>all wheel drive</td>\n      <td>4.0</td>\n      <td>Crossover,Hatchback,Luxury</td>\n      <td>Midsize</td>\n      <td>4dr Hatchback</td>\n      <td>23</td>\n      <td>16</td>\n      <td>204</td>\n      <td>50620</td>\n    </tr>\n    <tr>\n      <th>11912</th>\n      <td>Acura</td>\n      <td>ZDX</td>\n      <td>2013</td>\n      <td>premium unleaded (recommended)</td>\n      <td>300.0</td>\n      <td>6.0</td>\n      <td>AUTOMATIC</td>\n      <td>all wheel drive</td>\n      <td>4.0</td>\n      <td>Crossover,Hatchback,Luxury</td>\n      <td>Midsize</td>\n      <td>4dr Hatchback</td>\n      <td>23</td>\n      <td>16</td>\n      <td>204</td>\n      <td>50920</td>\n    </tr>\n    <tr>\n      <th>11913</th>\n      <td>Lincoln</td>\n      <td>Zephyr</td>\n      <td>2006</td>\n      <td>regular unleaded</td>\n      <td>221.0</td>\n      <td>6.0</td>\n      <td>AUTOMATIC</td>\n      <td>front wheel drive</td>\n      <td>4.0</td>\n      <td>Luxury</td>\n      <td>Midsize</td>\n      <td>Sedan</td>\n      <td>26</td>\n      <td>17</td>\n      <td>61</td>\n      <td>28995</td>\n    </tr>\n  </tbody>\n</table>\n<p>11914 rows × 16 columns</p>\n</div>",
      "text/plain": "          Make       Model  Year                Engine Fuel Type  Engine HP  \\\n0          BMW  1 Series M  2011     premium unleaded (required)      335.0   \n1          BMW    1 Series  2011     premium unleaded (required)      300.0   \n2          BMW    1 Series  2011     premium unleaded (required)      300.0   \n3          BMW    1 Series  2011     premium unleaded (required)      230.0   \n4          BMW    1 Series  2011     premium unleaded (required)      230.0   \n...        ...         ...   ...                             ...        ...   \n11909    Acura         ZDX  2012     premium unleaded (required)      300.0   \n11910    Acura         ZDX  2012     premium unleaded (required)      300.0   \n11911    Acura         ZDX  2012     premium unleaded (required)      300.0   \n11912    Acura         ZDX  2013  premium unleaded (recommended)      300.0   \n11913  Lincoln      Zephyr  2006                regular unleaded      221.0   \n\n       Engine Cylinders Transmission Type      Driven_Wheels  Number of Doors  \\\n0                   6.0            MANUAL   rear wheel drive              2.0   \n1                   6.0            MANUAL   rear wheel drive              2.0   \n2                   6.0            MANUAL   rear wheel drive              2.0   \n3                   6.0            MANUAL   rear wheel drive              2.0   \n4                   6.0            MANUAL   rear wheel drive              2.0   \n...                 ...               ...                ...              ...   \n11909               6.0         AUTOMATIC    all wheel drive              4.0   \n11910               6.0         AUTOMATIC    all wheel drive              4.0   \n11911               6.0         AUTOMATIC    all wheel drive              4.0   \n11912               6.0         AUTOMATIC    all wheel drive              4.0   \n11913               6.0         AUTOMATIC  front wheel drive              4.0   \n\n                             Market Category Vehicle Size  Vehicle Style  \\\n0      Factory Tuner,Luxury,High-Performance      Compact          Coupe   \n1                         Luxury,Performance      Compact    Convertible   \n2                    Luxury,High-Performance      Compact          Coupe   \n3                         Luxury,Performance      Compact          Coupe   \n4                                     Luxury      Compact    Convertible   \n...                                      ...          ...            ...   \n11909             Crossover,Hatchback,Luxury      Midsize  4dr Hatchback   \n11910             Crossover,Hatchback,Luxury      Midsize  4dr Hatchback   \n11911             Crossover,Hatchback,Luxury      Midsize  4dr Hatchback   \n11912             Crossover,Hatchback,Luxury      Midsize  4dr Hatchback   \n11913                                 Luxury      Midsize          Sedan   \n\n       highway MPG  city mpg  Popularity   MSRP  \n0               26        19        3916  46135  \n1               28        19        3916  40650  \n2               28        20        3916  36350  \n3               28        18        3916  29450  \n4               28        18        3916  34500  \n...            ...       ...         ...    ...  \n11909           23        16         204  46120  \n11910           23        16         204  56670  \n11911           23        16         204  50620  \n11912           23        16         204  50920  \n11913           26        17          61  28995  \n\n[11914 rows x 16 columns]"
     },
     "execution_count": 214,
     "metadata": {},
     "output_type": "execute_result"
    }
   ],
   "source": [
    "path = \"data.csv\"\n",
    "df= pd.read_csv(path)\n",
    "df"
   ]
  },
  {
   "cell_type": "code",
   "execution_count": 215,
   "metadata": {},
   "outputs": [
    {
     "data": {
      "text/plain": "Make                    0\nModel                   0\nYear                    0\nEngine Fuel Type        3\nEngine HP              69\nEngine Cylinders       30\nTransmission Type       0\nDriven_Wheels           0\nNumber of Doors         6\nMarket Category      3742\nVehicle Size            0\nVehicle Style           0\nhighway MPG             0\ncity mpg                0\nPopularity              0\nMSRP                    0\ndtype: int64"
     },
     "execution_count": 215,
     "metadata": {},
     "output_type": "execute_result"
    }
   ],
   "source": [
    "df.isnull().sum()"
   ]
  },
  {
   "cell_type": "code",
   "execution_count": 216,
   "metadata": {},
   "outputs": [],
   "source": [
    "def missing_values_table(df):\n",
    "        # Total missing values\n",
    "        mis_val = df.isnull().sum()\n",
    "        \n",
    "        # Percentage of missing values\n",
    "        mis_val_percent = 100 * df.isnull().sum() / len(df)\n",
    "        \n",
    "        # Make a table with the results\n",
    "        mis_val_table = pd.concat([mis_val, mis_val_percent], axis=1)\n",
    "        \n",
    "        # Rename the columns\n",
    "        mis_val_table_ren_columns = mis_val_table.rename(\n",
    "        columns = {0 : 'Missing Values', 1 : '% of Total Values'})\n",
    "        \n",
    "        # Sort the table by percentage of missing descending\n",
    "        mis_val_table_ren_columns = mis_val_table_ren_columns[\n",
    "            mis_val_table_ren_columns.iloc[:,1] != 0].sort_values(\n",
    "        '% of Total Values', ascending=False).round(1)\n",
    "        \n",
    "        # Print some summary information\n",
    "        print (\"Your selected dataframe has \" + str(df.shape[1]) + \" columns.\\n\"      \n",
    "            \"There are \" + str(mis_val_table_ren_columns.shape[0]) +\n",
    "              \" columns that have missing values.\")\n",
    "        \n",
    "        # Return the dataframe with missing information\n",
    "        return mis_val_table_ren_columns"
   ]
  },
  {
   "cell_type": "code",
   "execution_count": 217,
   "metadata": {},
   "outputs": [],
   "source": [
    "df.columns = df.columns.str.replace(' ','_')"
   ]
  },
  {
   "cell_type": "code",
   "execution_count": 218,
   "metadata": {},
   "outputs": [
    {
     "name": "stdout",
     "output_type": "stream",
     "text": [
      "Your selected dataframe has 16 columns.\n",
      "There are 5 columns that have missing values.\n"
     ]
    },
    {
     "data": {
      "text/html": "<div>\n<style scoped>\n    .dataframe tbody tr th:only-of-type {\n        vertical-align: middle;\n    }\n\n    .dataframe tbody tr th {\n        vertical-align: top;\n    }\n\n    .dataframe thead th {\n        text-align: right;\n    }\n</style>\n<table border=\"1\" class=\"dataframe\">\n  <thead>\n    <tr style=\"text-align: right;\">\n      <th></th>\n      <th>Missing Values</th>\n      <th>% of Total Values</th>\n    </tr>\n  </thead>\n  <tbody>\n    <tr>\n      <th>Market_Category</th>\n      <td>3742</td>\n      <td>31.4</td>\n    </tr>\n    <tr>\n      <th>Engine_HP</th>\n      <td>69</td>\n      <td>0.6</td>\n    </tr>\n    <tr>\n      <th>Engine_Cylinders</th>\n      <td>30</td>\n      <td>0.3</td>\n    </tr>\n    <tr>\n      <th>Number_of_Doors</th>\n      <td>6</td>\n      <td>0.1</td>\n    </tr>\n    <tr>\n      <th>Engine_Fuel_Type</th>\n      <td>3</td>\n      <td>0.0</td>\n    </tr>\n  </tbody>\n</table>\n</div>",
      "text/plain": "                  Missing Values  % of Total Values\nMarket_Category             3742               31.4\nEngine_HP                     69                0.6\nEngine_Cylinders              30                0.3\nNumber_of_Doors                6                0.1\nEngine_Fuel_Type               3                0.0"
     },
     "execution_count": 218,
     "metadata": {},
     "output_type": "execute_result"
    }
   ],
   "source": [
    "missing_values_table(df)"
   ]
  },
  {
   "cell_type": "code",
   "execution_count": 219,
   "metadata": {},
   "outputs": [],
   "source": [
    "#dropping null values in <%1\n",
    "\n",
    "df=df.dropna(subset=['Engine_HP','Engine_Cylinders','Number_of_Doors','Engine_Fuel_Type'])"
   ]
  },
  {
   "cell_type": "code",
   "execution_count": 220,
   "metadata": {},
   "outputs": [],
   "source": [
    "df=df.fillna('Unknown')"
   ]
  },
  {
   "cell_type": "code",
   "execution_count": 221,
   "metadata": {},
   "outputs": [
    {
     "name": "stdout",
     "output_type": "stream",
     "text": [
      "Your selected dataframe has 16 columns.\n",
      "There are 0 columns that have missing values.\n"
     ]
    },
    {
     "data": {
      "text/html": "<div>\n<style scoped>\n    .dataframe tbody tr th:only-of-type {\n        vertical-align: middle;\n    }\n\n    .dataframe tbody tr th {\n        vertical-align: top;\n    }\n\n    .dataframe thead th {\n        text-align: right;\n    }\n</style>\n<table border=\"1\" class=\"dataframe\">\n  <thead>\n    <tr style=\"text-align: right;\">\n      <th></th>\n      <th>Missing Values</th>\n      <th>% of Total Values</th>\n    </tr>\n  </thead>\n  <tbody>\n  </tbody>\n</table>\n</div>",
      "text/plain": "Empty DataFrame\nColumns: [Missing Values, % of Total Values]\nIndex: []"
     },
     "execution_count": 221,
     "metadata": {},
     "output_type": "execute_result"
    }
   ],
   "source": [
    "missing_values_table(df)"
   ]
  },
  {
   "cell_type": "code",
   "execution_count": 222,
   "metadata": {},
   "outputs": [
    {
     "data": {
      "text/plain": "Make                 0\nModel                0\nYear                 0\nEngine_Fuel_Type     0\nEngine_HP            0\nEngine_Cylinders     0\nTransmission_Type    0\nDriven_Wheels        0\nNumber_of_Doors      0\nMarket_Category      0\nVehicle_Size         0\nVehicle_Style        0\nhighway_MPG          0\ncity_mpg             0\nPopularity           0\nMSRP                 0\ndtype: int64"
     },
     "execution_count": 222,
     "metadata": {},
     "output_type": "execute_result"
    }
   ],
   "source": [
    "df.isnull().sum()"
   ]
  },
  {
   "cell_type": "code",
   "execution_count": 223,
   "metadata": {},
   "outputs": [
    {
     "data": {
      "text/plain": "Make                  47\nModel                904\nEngine_Fuel_Type       9\nTransmission_Type      5\nDriven_Wheels          4\nMarket_Category       71\nVehicle_Size           3\nVehicle_Style         16\ndtype: int64"
     },
     "execution_count": 223,
     "metadata": {},
     "output_type": "execute_result"
    }
   ],
   "source": [
    "df.select_dtypes('object').apply(pd.Series.nunique, axis = 0)"
   ]
  },
  {
   "cell_type": "code",
   "execution_count": 224,
   "metadata": {},
   "outputs": [
    {
     "name": "stdout",
     "output_type": "stream",
     "text": [
      "Most Positive Correlations:\n",
      " city_mpg           -0.225317\n",
      "highway_MPG        -0.198962\n",
      "Number_of_Doors    -0.127316\n",
      "Popularity         -0.048609\n",
      "Year                0.227327\n",
      "Engine_Cylinders    0.544002\n",
      "Engine_HP           0.661827\n",
      "MSRP                1.000000\n",
      "Name: MSRP, dtype: float64\n",
      "\n",
      "Most Negative Correlations:\n",
      " city_mpg           -0.225317\n",
      "highway_MPG        -0.198962\n",
      "Number_of_Doors    -0.127316\n",
      "Popularity         -0.048609\n",
      "Year                0.227327\n",
      "Engine_Cylinders    0.544002\n",
      "Engine_HP           0.661827\n",
      "MSRP                1.000000\n",
      "Name: MSRP, dtype: float64\n"
     ]
    }
   ],
   "source": [
    "#Correclation\n",
    "correlations = df.corr()['MSRP'].sort_values()\n",
    "# Display correlations\n",
    "print('Most Positive Correlations:\\n', correlations.tail(15))\n",
    "print('\\nMost Negative Correlations:\\n', correlations.head(15))"
   ]
  },
  {
   "cell_type": "code",
   "execution_count": 225,
   "metadata": {},
   "outputs": [],
   "source": [
    "def encode_and_bind(original_dataframe, feature_to_encode):\r\n",
    "    dummies = pd.get_dummies(original_dataframe[[feature_to_encode]])\r\n",
    "    df = pd.concat([original_dataframe, dummies], axis=1)\r\n",
    "    df = df.drop([feature_to_encode], axis=1)\r\n",
    "    return(df)\r\n"
   ]
  },
  {
   "cell_type": "code",
   "execution_count": 226,
   "metadata": {},
   "outputs": [],
   "source": [
    "Features = ['Transmission_Type','Driven_Wheels','Vehicle_Size']\r\n",
    "df =encode_and_bind(df,'Vehicle_Size')\r\n",
    "df\r\n",
    "\r\n",
    "df =encode_and_bind(df,'Driven_Wheels' )\r\n",
    "df\r\n",
    "\r\n",
    "df =encode_and_bind(df,'Transmission_Type')\r\n",
    "df\r\n",
    "\r\n",
    "df =encode_and_bind(df,'Vehicle_Style')\r\n",
    "df\r\n",
    "\r\n",
    "df.columns = df.columns.str.replace('_Type','')\r\n",
    "df.columns = df.columns.str.replace('2dr','two_door')\r\n",
    "df.columns = df.columns.str.replace('4dr','four_door')"
   ]
  },
  {
   "cell_type": "code",
   "execution_count": 227,
   "metadata": {},
   "outputs": [],
   "source": [
    "df.to_csv('work_in_progress.csv', encoding='utf-8')"
   ]
  },
  {
   "cell_type": "code",
   "execution_count": 228,
   "metadata": {},
   "outputs": [
    {
     "data": {
      "text/html": "<div>\n<style scoped>\n    .dataframe tbody tr th:only-of-type {\n        vertical-align: middle;\n    }\n\n    .dataframe tbody tr th {\n        vertical-align: top;\n    }\n\n    .dataframe thead th {\n        text-align: right;\n    }\n</style>\n<table border=\"1\" class=\"dataframe\">\n  <thead>\n    <tr style=\"text-align: right;\">\n      <th></th>\n      <th>Make</th>\n      <th>Model</th>\n      <th>Year</th>\n      <th>Engine_Fuel</th>\n      <th>Engine_HP</th>\n      <th>Engine_Cylinders</th>\n      <th>Number_of_Doors</th>\n      <th>Market_Category</th>\n      <th>highway_MPG</th>\n      <th>city_mpg</th>\n      <th>...</th>\n      <th>Vehicle_Style_Convertible</th>\n      <th>Vehicle_Style_Convertible SUV</th>\n      <th>Vehicle_Style_Coupe</th>\n      <th>Vehicle_Style_Crew Cab Pickup</th>\n      <th>Vehicle_Style_Extended Cab Pickup</th>\n      <th>Vehicle_Style_Passenger Minivan</th>\n      <th>Vehicle_Style_Passenger Van</th>\n      <th>Vehicle_Style_Regular Cab Pickup</th>\n      <th>Vehicle_Style_Sedan</th>\n      <th>Vehicle_Style_Wagon</th>\n    </tr>\n  </thead>\n  <tbody>\n    <tr>\n      <th>0</th>\n      <td>BMW</td>\n      <td>1 Series M</td>\n      <td>2011</td>\n      <td>premium unleaded (required)</td>\n      <td>335.0</td>\n      <td>6.0</td>\n      <td>2.0</td>\n      <td>Factory Tuner,Luxury,High-Performance</td>\n      <td>26</td>\n      <td>19</td>\n      <td>...</td>\n      <td>0</td>\n      <td>0</td>\n      <td>1</td>\n      <td>0</td>\n      <td>0</td>\n      <td>0</td>\n      <td>0</td>\n      <td>0</td>\n      <td>0</td>\n      <td>0</td>\n    </tr>\n    <tr>\n      <th>1</th>\n      <td>BMW</td>\n      <td>1 Series</td>\n      <td>2011</td>\n      <td>premium unleaded (required)</td>\n      <td>300.0</td>\n      <td>6.0</td>\n      <td>2.0</td>\n      <td>Luxury,Performance</td>\n      <td>28</td>\n      <td>19</td>\n      <td>...</td>\n      <td>1</td>\n      <td>0</td>\n      <td>0</td>\n      <td>0</td>\n      <td>0</td>\n      <td>0</td>\n      <td>0</td>\n      <td>0</td>\n      <td>0</td>\n      <td>0</td>\n    </tr>\n    <tr>\n      <th>2</th>\n      <td>BMW</td>\n      <td>1 Series</td>\n      <td>2011</td>\n      <td>premium unleaded (required)</td>\n      <td>300.0</td>\n      <td>6.0</td>\n      <td>2.0</td>\n      <td>Luxury,High-Performance</td>\n      <td>28</td>\n      <td>20</td>\n      <td>...</td>\n      <td>0</td>\n      <td>0</td>\n      <td>1</td>\n      <td>0</td>\n      <td>0</td>\n      <td>0</td>\n      <td>0</td>\n      <td>0</td>\n      <td>0</td>\n      <td>0</td>\n    </tr>\n    <tr>\n      <th>3</th>\n      <td>BMW</td>\n      <td>1 Series</td>\n      <td>2011</td>\n      <td>premium unleaded (required)</td>\n      <td>230.0</td>\n      <td>6.0</td>\n      <td>2.0</td>\n      <td>Luxury,Performance</td>\n      <td>28</td>\n      <td>18</td>\n      <td>...</td>\n      <td>0</td>\n      <td>0</td>\n      <td>1</td>\n      <td>0</td>\n      <td>0</td>\n      <td>0</td>\n      <td>0</td>\n      <td>0</td>\n      <td>0</td>\n      <td>0</td>\n    </tr>\n    <tr>\n      <th>4</th>\n      <td>BMW</td>\n      <td>1 Series</td>\n      <td>2011</td>\n      <td>premium unleaded (required)</td>\n      <td>230.0</td>\n      <td>6.0</td>\n      <td>2.0</td>\n      <td>Luxury</td>\n      <td>28</td>\n      <td>18</td>\n      <td>...</td>\n      <td>1</td>\n      <td>0</td>\n      <td>0</td>\n      <td>0</td>\n      <td>0</td>\n      <td>0</td>\n      <td>0</td>\n      <td>0</td>\n      <td>0</td>\n      <td>0</td>\n    </tr>\n    <tr>\n      <th>...</th>\n      <td>...</td>\n      <td>...</td>\n      <td>...</td>\n      <td>...</td>\n      <td>...</td>\n      <td>...</td>\n      <td>...</td>\n      <td>...</td>\n      <td>...</td>\n      <td>...</td>\n      <td>...</td>\n      <td>...</td>\n      <td>...</td>\n      <td>...</td>\n      <td>...</td>\n      <td>...</td>\n      <td>...</td>\n      <td>...</td>\n      <td>...</td>\n      <td>...</td>\n      <td>...</td>\n    </tr>\n    <tr>\n      <th>11909</th>\n      <td>Acura</td>\n      <td>ZDX</td>\n      <td>2012</td>\n      <td>premium unleaded (required)</td>\n      <td>300.0</td>\n      <td>6.0</td>\n      <td>4.0</td>\n      <td>Crossover,Hatchback,Luxury</td>\n      <td>23</td>\n      <td>16</td>\n      <td>...</td>\n      <td>0</td>\n      <td>0</td>\n      <td>0</td>\n      <td>0</td>\n      <td>0</td>\n      <td>0</td>\n      <td>0</td>\n      <td>0</td>\n      <td>0</td>\n      <td>0</td>\n    </tr>\n    <tr>\n      <th>11910</th>\n      <td>Acura</td>\n      <td>ZDX</td>\n      <td>2012</td>\n      <td>premium unleaded (required)</td>\n      <td>300.0</td>\n      <td>6.0</td>\n      <td>4.0</td>\n      <td>Crossover,Hatchback,Luxury</td>\n      <td>23</td>\n      <td>16</td>\n      <td>...</td>\n      <td>0</td>\n      <td>0</td>\n      <td>0</td>\n      <td>0</td>\n      <td>0</td>\n      <td>0</td>\n      <td>0</td>\n      <td>0</td>\n      <td>0</td>\n      <td>0</td>\n    </tr>\n    <tr>\n      <th>11911</th>\n      <td>Acura</td>\n      <td>ZDX</td>\n      <td>2012</td>\n      <td>premium unleaded (required)</td>\n      <td>300.0</td>\n      <td>6.0</td>\n      <td>4.0</td>\n      <td>Crossover,Hatchback,Luxury</td>\n      <td>23</td>\n      <td>16</td>\n      <td>...</td>\n      <td>0</td>\n      <td>0</td>\n      <td>0</td>\n      <td>0</td>\n      <td>0</td>\n      <td>0</td>\n      <td>0</td>\n      <td>0</td>\n      <td>0</td>\n      <td>0</td>\n    </tr>\n    <tr>\n      <th>11912</th>\n      <td>Acura</td>\n      <td>ZDX</td>\n      <td>2013</td>\n      <td>premium unleaded (recommended)</td>\n      <td>300.0</td>\n      <td>6.0</td>\n      <td>4.0</td>\n      <td>Crossover,Hatchback,Luxury</td>\n      <td>23</td>\n      <td>16</td>\n      <td>...</td>\n      <td>0</td>\n      <td>0</td>\n      <td>0</td>\n      <td>0</td>\n      <td>0</td>\n      <td>0</td>\n      <td>0</td>\n      <td>0</td>\n      <td>0</td>\n      <td>0</td>\n    </tr>\n    <tr>\n      <th>11913</th>\n      <td>Lincoln</td>\n      <td>Zephyr</td>\n      <td>2006</td>\n      <td>regular unleaded</td>\n      <td>221.0</td>\n      <td>6.0</td>\n      <td>4.0</td>\n      <td>Luxury</td>\n      <td>26</td>\n      <td>17</td>\n      <td>...</td>\n      <td>0</td>\n      <td>0</td>\n      <td>0</td>\n      <td>0</td>\n      <td>0</td>\n      <td>0</td>\n      <td>0</td>\n      <td>0</td>\n      <td>1</td>\n      <td>0</td>\n    </tr>\n  </tbody>\n</table>\n<p>11812 rows × 40 columns</p>\n</div>",
      "text/plain": "          Make       Model  Year                     Engine_Fuel  Engine_HP  \\\n0          BMW  1 Series M  2011     premium unleaded (required)      335.0   \n1          BMW    1 Series  2011     premium unleaded (required)      300.0   \n2          BMW    1 Series  2011     premium unleaded (required)      300.0   \n3          BMW    1 Series  2011     premium unleaded (required)      230.0   \n4          BMW    1 Series  2011     premium unleaded (required)      230.0   \n...        ...         ...   ...                             ...        ...   \n11909    Acura         ZDX  2012     premium unleaded (required)      300.0   \n11910    Acura         ZDX  2012     premium unleaded (required)      300.0   \n11911    Acura         ZDX  2012     premium unleaded (required)      300.0   \n11912    Acura         ZDX  2013  premium unleaded (recommended)      300.0   \n11913  Lincoln      Zephyr  2006                regular unleaded      221.0   \n\n       Engine_Cylinders  Number_of_Doors  \\\n0                   6.0              2.0   \n1                   6.0              2.0   \n2                   6.0              2.0   \n3                   6.0              2.0   \n4                   6.0              2.0   \n...                 ...              ...   \n11909               6.0              4.0   \n11910               6.0              4.0   \n11911               6.0              4.0   \n11912               6.0              4.0   \n11913               6.0              4.0   \n\n                             Market_Category  highway_MPG  city_mpg  ...  \\\n0      Factory Tuner,Luxury,High-Performance           26        19  ...   \n1                         Luxury,Performance           28        19  ...   \n2                    Luxury,High-Performance           28        20  ...   \n3                         Luxury,Performance           28        18  ...   \n4                                     Luxury           28        18  ...   \n...                                      ...          ...       ...  ...   \n11909             Crossover,Hatchback,Luxury           23        16  ...   \n11910             Crossover,Hatchback,Luxury           23        16  ...   \n11911             Crossover,Hatchback,Luxury           23        16  ...   \n11912             Crossover,Hatchback,Luxury           23        16  ...   \n11913                                 Luxury           26        17  ...   \n\n       Vehicle_Style_Convertible  Vehicle_Style_Convertible SUV  \\\n0                              0                              0   \n1                              1                              0   \n2                              0                              0   \n3                              0                              0   \n4                              1                              0   \n...                          ...                            ...   \n11909                          0                              0   \n11910                          0                              0   \n11911                          0                              0   \n11912                          0                              0   \n11913                          0                              0   \n\n       Vehicle_Style_Coupe  Vehicle_Style_Crew Cab Pickup  \\\n0                        1                              0   \n1                        0                              0   \n2                        1                              0   \n3                        1                              0   \n4                        0                              0   \n...                    ...                            ...   \n11909                    0                              0   \n11910                    0                              0   \n11911                    0                              0   \n11912                    0                              0   \n11913                    0                              0   \n\n       Vehicle_Style_Extended Cab Pickup  Vehicle_Style_Passenger Minivan  \\\n0                                      0                                0   \n1                                      0                                0   \n2                                      0                                0   \n3                                      0                                0   \n4                                      0                                0   \n...                                  ...                              ...   \n11909                                  0                                0   \n11910                                  0                                0   \n11911                                  0                                0   \n11912                                  0                                0   \n11913                                  0                                0   \n\n       Vehicle_Style_Passenger Van  Vehicle_Style_Regular Cab Pickup  \\\n0                                0                                 0   \n1                                0                                 0   \n2                                0                                 0   \n3                                0                                 0   \n4                                0                                 0   \n...                            ...                               ...   \n11909                            0                                 0   \n11910                            0                                 0   \n11911                            0                                 0   \n11912                            0                                 0   \n11913                            0                                 0   \n\n       Vehicle_Style_Sedan  Vehicle_Style_Wagon  \n0                        0                    0  \n1                        0                    0  \n2                        0                    0  \n3                        0                    0  \n4                        0                    0  \n...                    ...                  ...  \n11909                    0                    0  \n11910                    0                    0  \n11911                    0                    0  \n11912                    0                    0  \n11913                    1                    0  \n\n[11812 rows x 40 columns]"
     },
     "execution_count": 228,
     "metadata": {},
     "output_type": "execute_result"
    }
   ],
   "source": [
    "df"
   ]
  }
 ],
 "metadata": {
  "kernelspec": {
   "display_name": "Python 3.9.4 64-bit",
   "name": "python394jvsc74a57bd078b87b7f4e9c535f715618cabf47bcbc57e38ea25e50598a9daacd0efb79c454"
  },
  "language_info": {
   "codemirror_mode": {
    "name": "ipython",
    "version": 3
   },
   "file_extension": ".py",
   "mimetype": "text/x-python",
   "name": "python",
   "nbconvert_exporter": "python",
   "pygments_lexer": "ipython3",
   "version": "3.9.4"
  },
  "metadata": {
   "interpreter": {
    "hash": "78b87b7f4e9c535f715618cabf47bcbc57e38ea25e50598a9daacd0efb79c454"
   }
  },
  "orig_nbformat": 2
 },
 "nbformat": 4,
 "nbformat_minor": 2
}